{
  "nbformat": 4,
  "nbformat_minor": 0,
  "metadata": {
    "colab": {
      "provenance": [],
      "include_colab_link": true
    },
    "kernelspec": {
      "name": "python3",
      "display_name": "Python 3"
    },
    "language_info": {
      "name": "python"
    }
  },
  "cells": [
    {
      "cell_type": "markdown",
      "metadata": {
        "id": "view-in-github",
        "colab_type": "text"
      },
      "source": [
        "<a href=\"https://colab.research.google.com/github/gauravgaikwadit/salary-prediction-/blob/main/SALARY_PREDICTION_ML_CA_2.ipynb\" target=\"_parent\"><img src=\"https://colab.research.google.com/assets/colab-badge.svg\" alt=\"Open In Colab\"/></a>"
      ]
    },
    {
      "cell_type": "code",
      "execution_count": null,
      "metadata": {
        "id": "6yNTykWlxgIy"
      },
      "outputs": [],
      "source": [
        "import pandas as pd\n",
        "import numpy as np\n",
        "import matplotlib.pyplot as plt\n",
        "import seaborn as sns\n"
      ]
    },
    {
      "cell_type": "code",
      "source": [
        "df=pd.read_csv(r'/content/salary.csv')\n",
        "df.head(5)"
      ],
      "metadata": {
        "id": "mksPTrQoync8",
        "colab": {
          "base_uri": "https://localhost:8080/",
          "height": 372
        },
        "outputId": "903eb56f-6b35-418b-be29-4153ef7c7ef7"
      },
      "execution_count": null,
      "outputs": [
        {
          "output_type": "execute_result",
          "data": {
            "text/plain": [
              "   age          workclass  fnlwgt   education  education-num  \\\n",
              "0   39          State-gov   77516   Bachelors             13   \n",
              "1   50   Self-emp-not-inc   83311   Bachelors             13   \n",
              "2   38            Private  215646     HS-grad              9   \n",
              "3   53            Private  234721        11th              7   \n",
              "4   28            Private  338409   Bachelors             13   \n",
              "\n",
              "        marital-status          occupation    relationship    race      sex  \\\n",
              "0        Never-married        Adm-clerical   Not-in-family   White     Male   \n",
              "1   Married-civ-spouse     Exec-managerial         Husband   White     Male   \n",
              "2             Divorced   Handlers-cleaners   Not-in-family   White     Male   \n",
              "3   Married-civ-spouse   Handlers-cleaners         Husband   Black     Male   \n",
              "4   Married-civ-spouse      Prof-specialty            Wife   Black   Female   \n",
              "\n",
              "   capital-gain  capital-loss  hours-per-week  native-country  salary  \n",
              "0          2174             0              40   United-States   <=50K  \n",
              "1             0             0              13   United-States   <=50K  \n",
              "2             0             0              40   United-States   <=50K  \n",
              "3             0             0              40   United-States   <=50K  \n",
              "4             0             0              40            Cuba   <=50K  "
            ],
            "text/html": [
              "\n",
              "  <div id=\"df-42bfe740-7ee3-4adc-9757-b0887af91e8c\">\n",
              "    <div class=\"colab-df-container\">\n",
              "      <div>\n",
              "<style scoped>\n",
              "    .dataframe tbody tr th:only-of-type {\n",
              "        vertical-align: middle;\n",
              "    }\n",
              "\n",
              "    .dataframe tbody tr th {\n",
              "        vertical-align: top;\n",
              "    }\n",
              "\n",
              "    .dataframe thead th {\n",
              "        text-align: right;\n",
              "    }\n",
              "</style>\n",
              "<table border=\"1\" class=\"dataframe\">\n",
              "  <thead>\n",
              "    <tr style=\"text-align: right;\">\n",
              "      <th></th>\n",
              "      <th>age</th>\n",
              "      <th>workclass</th>\n",
              "      <th>fnlwgt</th>\n",
              "      <th>education</th>\n",
              "      <th>education-num</th>\n",
              "      <th>marital-status</th>\n",
              "      <th>occupation</th>\n",
              "      <th>relationship</th>\n",
              "      <th>race</th>\n",
              "      <th>sex</th>\n",
              "      <th>capital-gain</th>\n",
              "      <th>capital-loss</th>\n",
              "      <th>hours-per-week</th>\n",
              "      <th>native-country</th>\n",
              "      <th>salary</th>\n",
              "    </tr>\n",
              "  </thead>\n",
              "  <tbody>\n",
              "    <tr>\n",
              "      <th>0</th>\n",
              "      <td>39</td>\n",
              "      <td>State-gov</td>\n",
              "      <td>77516</td>\n",
              "      <td>Bachelors</td>\n",
              "      <td>13</td>\n",
              "      <td>Never-married</td>\n",
              "      <td>Adm-clerical</td>\n",
              "      <td>Not-in-family</td>\n",
              "      <td>White</td>\n",
              "      <td>Male</td>\n",
              "      <td>2174</td>\n",
              "      <td>0</td>\n",
              "      <td>40</td>\n",
              "      <td>United-States</td>\n",
              "      <td>&lt;=50K</td>\n",
              "    </tr>\n",
              "    <tr>\n",
              "      <th>1</th>\n",
              "      <td>50</td>\n",
              "      <td>Self-emp-not-inc</td>\n",
              "      <td>83311</td>\n",
              "      <td>Bachelors</td>\n",
              "      <td>13</td>\n",
              "      <td>Married-civ-spouse</td>\n",
              "      <td>Exec-managerial</td>\n",
              "      <td>Husband</td>\n",
              "      <td>White</td>\n",
              "      <td>Male</td>\n",
              "      <td>0</td>\n",
              "      <td>0</td>\n",
              "      <td>13</td>\n",
              "      <td>United-States</td>\n",
              "      <td>&lt;=50K</td>\n",
              "    </tr>\n",
              "    <tr>\n",
              "      <th>2</th>\n",
              "      <td>38</td>\n",
              "      <td>Private</td>\n",
              "      <td>215646</td>\n",
              "      <td>HS-grad</td>\n",
              "      <td>9</td>\n",
              "      <td>Divorced</td>\n",
              "      <td>Handlers-cleaners</td>\n",
              "      <td>Not-in-family</td>\n",
              "      <td>White</td>\n",
              "      <td>Male</td>\n",
              "      <td>0</td>\n",
              "      <td>0</td>\n",
              "      <td>40</td>\n",
              "      <td>United-States</td>\n",
              "      <td>&lt;=50K</td>\n",
              "    </tr>\n",
              "    <tr>\n",
              "      <th>3</th>\n",
              "      <td>53</td>\n",
              "      <td>Private</td>\n",
              "      <td>234721</td>\n",
              "      <td>11th</td>\n",
              "      <td>7</td>\n",
              "      <td>Married-civ-spouse</td>\n",
              "      <td>Handlers-cleaners</td>\n",
              "      <td>Husband</td>\n",
              "      <td>Black</td>\n",
              "      <td>Male</td>\n",
              "      <td>0</td>\n",
              "      <td>0</td>\n",
              "      <td>40</td>\n",
              "      <td>United-States</td>\n",
              "      <td>&lt;=50K</td>\n",
              "    </tr>\n",
              "    <tr>\n",
              "      <th>4</th>\n",
              "      <td>28</td>\n",
              "      <td>Private</td>\n",
              "      <td>338409</td>\n",
              "      <td>Bachelors</td>\n",
              "      <td>13</td>\n",
              "      <td>Married-civ-spouse</td>\n",
              "      <td>Prof-specialty</td>\n",
              "      <td>Wife</td>\n",
              "      <td>Black</td>\n",
              "      <td>Female</td>\n",
              "      <td>0</td>\n",
              "      <td>0</td>\n",
              "      <td>40</td>\n",
              "      <td>Cuba</td>\n",
              "      <td>&lt;=50K</td>\n",
              "    </tr>\n",
              "  </tbody>\n",
              "</table>\n",
              "</div>\n",
              "      <button class=\"colab-df-convert\" onclick=\"convertToInteractive('df-42bfe740-7ee3-4adc-9757-b0887af91e8c')\"\n",
              "              title=\"Convert this dataframe to an interactive table.\"\n",
              "              style=\"display:none;\">\n",
              "        \n",
              "  <svg xmlns=\"http://www.w3.org/2000/svg\" height=\"24px\"viewBox=\"0 0 24 24\"\n",
              "       width=\"24px\">\n",
              "    <path d=\"M0 0h24v24H0V0z\" fill=\"none\"/>\n",
              "    <path d=\"M18.56 5.44l.94 2.06.94-2.06 2.06-.94-2.06-.94-.94-2.06-.94 2.06-2.06.94zm-11 1L8.5 8.5l.94-2.06 2.06-.94-2.06-.94L8.5 2.5l-.94 2.06-2.06.94zm10 10l.94 2.06.94-2.06 2.06-.94-2.06-.94-.94-2.06-.94 2.06-2.06.94z\"/><path d=\"M17.41 7.96l-1.37-1.37c-.4-.4-.92-.59-1.43-.59-.52 0-1.04.2-1.43.59L10.3 9.45l-7.72 7.72c-.78.78-.78 2.05 0 2.83L4 21.41c.39.39.9.59 1.41.59.51 0 1.02-.2 1.41-.59l7.78-7.78 2.81-2.81c.8-.78.8-2.07 0-2.86zM5.41 20L4 18.59l7.72-7.72 1.47 1.35L5.41 20z\"/>\n",
              "  </svg>\n",
              "      </button>\n",
              "      \n",
              "  <style>\n",
              "    .colab-df-container {\n",
              "      display:flex;\n",
              "      flex-wrap:wrap;\n",
              "      gap: 12px;\n",
              "    }\n",
              "\n",
              "    .colab-df-convert {\n",
              "      background-color: #E8F0FE;\n",
              "      border: none;\n",
              "      border-radius: 50%;\n",
              "      cursor: pointer;\n",
              "      display: none;\n",
              "      fill: #1967D2;\n",
              "      height: 32px;\n",
              "      padding: 0 0 0 0;\n",
              "      width: 32px;\n",
              "    }\n",
              "\n",
              "    .colab-df-convert:hover {\n",
              "      background-color: #E2EBFA;\n",
              "      box-shadow: 0px 1px 2px rgba(60, 64, 67, 0.3), 0px 1px 3px 1px rgba(60, 64, 67, 0.15);\n",
              "      fill: #174EA6;\n",
              "    }\n",
              "\n",
              "    [theme=dark] .colab-df-convert {\n",
              "      background-color: #3B4455;\n",
              "      fill: #D2E3FC;\n",
              "    }\n",
              "\n",
              "    [theme=dark] .colab-df-convert:hover {\n",
              "      background-color: #434B5C;\n",
              "      box-shadow: 0px 1px 3px 1px rgba(0, 0, 0, 0.15);\n",
              "      filter: drop-shadow(0px 1px 2px rgba(0, 0, 0, 0.3));\n",
              "      fill: #FFFFFF;\n",
              "    }\n",
              "  </style>\n",
              "\n",
              "      <script>\n",
              "        const buttonEl =\n",
              "          document.querySelector('#df-42bfe740-7ee3-4adc-9757-b0887af91e8c button.colab-df-convert');\n",
              "        buttonEl.style.display =\n",
              "          google.colab.kernel.accessAllowed ? 'block' : 'none';\n",
              "\n",
              "        async function convertToInteractive(key) {\n",
              "          const element = document.querySelector('#df-42bfe740-7ee3-4adc-9757-b0887af91e8c');\n",
              "          const dataTable =\n",
              "            await google.colab.kernel.invokeFunction('convertToInteractive',\n",
              "                                                     [key], {});\n",
              "          if (!dataTable) return;\n",
              "\n",
              "          const docLinkHtml = 'Like what you see? Visit the ' +\n",
              "            '<a target=\"_blank\" href=https://colab.research.google.com/notebooks/data_table.ipynb>data table notebook</a>'\n",
              "            + ' to learn more about interactive tables.';\n",
              "          element.innerHTML = '';\n",
              "          dataTable['output_type'] = 'display_data';\n",
              "          await google.colab.output.renderOutput(dataTable, element);\n",
              "          const docLink = document.createElement('div');\n",
              "          docLink.innerHTML = docLinkHtml;\n",
              "          element.appendChild(docLink);\n",
              "        }\n",
              "      </script>\n",
              "    </div>\n",
              "  </div>\n",
              "  "
            ]
          },
          "metadata": {},
          "execution_count": 220
        }
      ]
    },
    {
      "cell_type": "code",
      "source": [
        "df.describe()"
      ],
      "metadata": {
        "colab": {
          "base_uri": "https://localhost:8080/",
          "height": 515
        },
        "id": "crXfylyGtKlK",
        "outputId": "3c0830a8-d68d-4a50-f466-796bb4eb3e65"
      },
      "execution_count": null,
      "outputs": [
        {
          "output_type": "execute_result",
          "data": {
            "text/plain": [
              "                age        fnlwgt  education-num  capital-gain  capital-loss  \\\n",
              "count  2.661200e+04  2.661200e+04   2.661200e+04  2.661200e+04  2.661200e+04   \n",
              "mean  -6.007520e-18 -1.128079e-16  -2.742099e-16 -4.752616e-17 -1.288279e-17   \n",
              "std    1.000019e+00  1.000019e+00   1.000019e+00  1.000019e+00  1.000019e+00   \n",
              "min   -1.585254e+00 -1.687893e+00  -3.546874e+00 -1.454040e-01 -2.155094e-01   \n",
              "25%   -7.778811e-01 -6.825364e-01  -4.241628e-01 -1.454040e-01 -2.155094e-01   \n",
              "50%   -1.173031e-01 -1.078514e-01  -3.382389e-02 -1.454040e-01 -2.155094e-01   \n",
              "75%    6.900700e-01  4.481925e-01   7.468539e-01 -1.454040e-01 -2.155094e-01   \n",
              "max    3.772767e+00  1.231240e+01   2.308209e+00  1.317506e+01  1.064839e+01   \n",
              "\n",
              "       hours-per-week  age_education  education_hours  workclass_ Local-gov  \\\n",
              "count    2.661200e+04   2.661200e+04     2.661200e+04          26612.000000   \n",
              "mean    -1.191491e-16  -3.524412e-17    -1.655405e-17              0.065196   \n",
              "std      1.000019e+00   1.000019e+00     1.000019e+00              0.246876   \n",
              "min     -3.204872e+00  -2.113952e+00    -2.299341e+00              0.000000   \n",
              "25%     -3.238911e-02  -7.427000e-01    -5.202991e-01              0.000000   \n",
              "50%     -3.238911e-02  -1.509564e-01    -6.847890e-02              0.000000   \n",
              "75%      3.743394e-01   5.944130e-01     6.092515e-01              0.000000   \n",
              "max      4.767007e+00   5.288533e+00     6.618461e+00              1.000000   \n",
              "\n",
              "       workclass_ Never-worked  ...  native-country_Portugal  \\\n",
              "count             26612.000000  ...             26612.000000   \n",
              "mean                  0.000188  ...                 0.001052   \n",
              "std                   0.013706  ...                 0.032421   \n",
              "min                   0.000000  ...                 0.000000   \n",
              "25%                   0.000000  ...                 0.000000   \n",
              "50%                   0.000000  ...                 0.000000   \n",
              "75%                   0.000000  ...                 0.000000   \n",
              "max                   1.000000  ...                 1.000000   \n",
              "\n",
              "       native-country_Puerto-Rico  native-country_Scotland  \\\n",
              "count                26612.000000             26612.000000   \n",
              "mean                     0.003795                 0.000338   \n",
              "std                      0.061490                 0.018387   \n",
              "min                      0.000000                 0.000000   \n",
              "25%                      0.000000                 0.000000   \n",
              "50%                      0.000000                 0.000000   \n",
              "75%                      0.000000                 0.000000   \n",
              "max                      1.000000                 1.000000   \n",
              "\n",
              "       native-country_South  native-country_Taiwan  native-country_Thailand  \\\n",
              "count          26612.000000           26612.000000             26612.000000   \n",
              "mean               0.002593               0.001691                 0.000601   \n",
              "std                0.050855               0.041087                 0.024513   \n",
              "min                0.000000               0.000000                 0.000000   \n",
              "25%                0.000000               0.000000                 0.000000   \n",
              "50%                0.000000               0.000000                 0.000000   \n",
              "75%                0.000000               0.000000                 0.000000   \n",
              "max                1.000000               1.000000                 1.000000   \n",
              "\n",
              "       native-country_Trinadad&Tobago  native-country_United-States  \\\n",
              "count                    26612.000000                  26612.000000   \n",
              "mean                         0.000451                      0.896663   \n",
              "std                          0.021231                      0.304404   \n",
              "min                          0.000000                      0.000000   \n",
              "25%                          0.000000                      1.000000   \n",
              "50%                          0.000000                      1.000000   \n",
              "75%                          0.000000                      1.000000   \n",
              "max                          1.000000                      1.000000   \n",
              "\n",
              "       native-country_Vietnam  native-country_Yugoslavia  \n",
              "count            26612.000000               26612.000000  \n",
              "mean                 0.001992                   0.000451  \n",
              "std                  0.044584                   0.021231  \n",
              "min                  0.000000                   0.000000  \n",
              "25%                  0.000000                   0.000000  \n",
              "50%                  0.000000                   0.000000  \n",
              "75%                  0.000000                   0.000000  \n",
              "max                  1.000000                   1.000000  \n",
              "\n",
              "[8 rows x 87 columns]"
            ],
            "text/html": [
              "\n",
              "  <div id=\"df-5ace9550-c631-47c1-a979-715e7e664a6d\">\n",
              "    <div class=\"colab-df-container\">\n",
              "      <div>\n",
              "<style scoped>\n",
              "    .dataframe tbody tr th:only-of-type {\n",
              "        vertical-align: middle;\n",
              "    }\n",
              "\n",
              "    .dataframe tbody tr th {\n",
              "        vertical-align: top;\n",
              "    }\n",
              "\n",
              "    .dataframe thead th {\n",
              "        text-align: right;\n",
              "    }\n",
              "</style>\n",
              "<table border=\"1\" class=\"dataframe\">\n",
              "  <thead>\n",
              "    <tr style=\"text-align: right;\">\n",
              "      <th></th>\n",
              "      <th>age</th>\n",
              "      <th>fnlwgt</th>\n",
              "      <th>education-num</th>\n",
              "      <th>capital-gain</th>\n",
              "      <th>capital-loss</th>\n",
              "      <th>hours-per-week</th>\n",
              "      <th>age_education</th>\n",
              "      <th>education_hours</th>\n",
              "      <th>workclass_ Local-gov</th>\n",
              "      <th>workclass_ Never-worked</th>\n",
              "      <th>...</th>\n",
              "      <th>native-country_Portugal</th>\n",
              "      <th>native-country_Puerto-Rico</th>\n",
              "      <th>native-country_Scotland</th>\n",
              "      <th>native-country_South</th>\n",
              "      <th>native-country_Taiwan</th>\n",
              "      <th>native-country_Thailand</th>\n",
              "      <th>native-country_Trinadad&amp;Tobago</th>\n",
              "      <th>native-country_United-States</th>\n",
              "      <th>native-country_Vietnam</th>\n",
              "      <th>native-country_Yugoslavia</th>\n",
              "    </tr>\n",
              "  </thead>\n",
              "  <tbody>\n",
              "    <tr>\n",
              "      <th>count</th>\n",
              "      <td>2.661200e+04</td>\n",
              "      <td>2.661200e+04</td>\n",
              "      <td>2.661200e+04</td>\n",
              "      <td>2.661200e+04</td>\n",
              "      <td>2.661200e+04</td>\n",
              "      <td>2.661200e+04</td>\n",
              "      <td>2.661200e+04</td>\n",
              "      <td>2.661200e+04</td>\n",
              "      <td>26612.000000</td>\n",
              "      <td>26612.000000</td>\n",
              "      <td>...</td>\n",
              "      <td>26612.000000</td>\n",
              "      <td>26612.000000</td>\n",
              "      <td>26612.000000</td>\n",
              "      <td>26612.000000</td>\n",
              "      <td>26612.000000</td>\n",
              "      <td>26612.000000</td>\n",
              "      <td>26612.000000</td>\n",
              "      <td>26612.000000</td>\n",
              "      <td>26612.000000</td>\n",
              "      <td>26612.000000</td>\n",
              "    </tr>\n",
              "    <tr>\n",
              "      <th>mean</th>\n",
              "      <td>-6.007520e-18</td>\n",
              "      <td>-1.128079e-16</td>\n",
              "      <td>-2.742099e-16</td>\n",
              "      <td>-4.752616e-17</td>\n",
              "      <td>-1.288279e-17</td>\n",
              "      <td>-1.191491e-16</td>\n",
              "      <td>-3.524412e-17</td>\n",
              "      <td>-1.655405e-17</td>\n",
              "      <td>0.065196</td>\n",
              "      <td>0.000188</td>\n",
              "      <td>...</td>\n",
              "      <td>0.001052</td>\n",
              "      <td>0.003795</td>\n",
              "      <td>0.000338</td>\n",
              "      <td>0.002593</td>\n",
              "      <td>0.001691</td>\n",
              "      <td>0.000601</td>\n",
              "      <td>0.000451</td>\n",
              "      <td>0.896663</td>\n",
              "      <td>0.001992</td>\n",
              "      <td>0.000451</td>\n",
              "    </tr>\n",
              "    <tr>\n",
              "      <th>std</th>\n",
              "      <td>1.000019e+00</td>\n",
              "      <td>1.000019e+00</td>\n",
              "      <td>1.000019e+00</td>\n",
              "      <td>1.000019e+00</td>\n",
              "      <td>1.000019e+00</td>\n",
              "      <td>1.000019e+00</td>\n",
              "      <td>1.000019e+00</td>\n",
              "      <td>1.000019e+00</td>\n",
              "      <td>0.246876</td>\n",
              "      <td>0.013706</td>\n",
              "      <td>...</td>\n",
              "      <td>0.032421</td>\n",
              "      <td>0.061490</td>\n",
              "      <td>0.018387</td>\n",
              "      <td>0.050855</td>\n",
              "      <td>0.041087</td>\n",
              "      <td>0.024513</td>\n",
              "      <td>0.021231</td>\n",
              "      <td>0.304404</td>\n",
              "      <td>0.044584</td>\n",
              "      <td>0.021231</td>\n",
              "    </tr>\n",
              "    <tr>\n",
              "      <th>min</th>\n",
              "      <td>-1.585254e+00</td>\n",
              "      <td>-1.687893e+00</td>\n",
              "      <td>-3.546874e+00</td>\n",
              "      <td>-1.454040e-01</td>\n",
              "      <td>-2.155094e-01</td>\n",
              "      <td>-3.204872e+00</td>\n",
              "      <td>-2.113952e+00</td>\n",
              "      <td>-2.299341e+00</td>\n",
              "      <td>0.000000</td>\n",
              "      <td>0.000000</td>\n",
              "      <td>...</td>\n",
              "      <td>0.000000</td>\n",
              "      <td>0.000000</td>\n",
              "      <td>0.000000</td>\n",
              "      <td>0.000000</td>\n",
              "      <td>0.000000</td>\n",
              "      <td>0.000000</td>\n",
              "      <td>0.000000</td>\n",
              "      <td>0.000000</td>\n",
              "      <td>0.000000</td>\n",
              "      <td>0.000000</td>\n",
              "    </tr>\n",
              "    <tr>\n",
              "      <th>25%</th>\n",
              "      <td>-7.778811e-01</td>\n",
              "      <td>-6.825364e-01</td>\n",
              "      <td>-4.241628e-01</td>\n",
              "      <td>-1.454040e-01</td>\n",
              "      <td>-2.155094e-01</td>\n",
              "      <td>-3.238911e-02</td>\n",
              "      <td>-7.427000e-01</td>\n",
              "      <td>-5.202991e-01</td>\n",
              "      <td>0.000000</td>\n",
              "      <td>0.000000</td>\n",
              "      <td>...</td>\n",
              "      <td>0.000000</td>\n",
              "      <td>0.000000</td>\n",
              "      <td>0.000000</td>\n",
              "      <td>0.000000</td>\n",
              "      <td>0.000000</td>\n",
              "      <td>0.000000</td>\n",
              "      <td>0.000000</td>\n",
              "      <td>1.000000</td>\n",
              "      <td>0.000000</td>\n",
              "      <td>0.000000</td>\n",
              "    </tr>\n",
              "    <tr>\n",
              "      <th>50%</th>\n",
              "      <td>-1.173031e-01</td>\n",
              "      <td>-1.078514e-01</td>\n",
              "      <td>-3.382389e-02</td>\n",
              "      <td>-1.454040e-01</td>\n",
              "      <td>-2.155094e-01</td>\n",
              "      <td>-3.238911e-02</td>\n",
              "      <td>-1.509564e-01</td>\n",
              "      <td>-6.847890e-02</td>\n",
              "      <td>0.000000</td>\n",
              "      <td>0.000000</td>\n",
              "      <td>...</td>\n",
              "      <td>0.000000</td>\n",
              "      <td>0.000000</td>\n",
              "      <td>0.000000</td>\n",
              "      <td>0.000000</td>\n",
              "      <td>0.000000</td>\n",
              "      <td>0.000000</td>\n",
              "      <td>0.000000</td>\n",
              "      <td>1.000000</td>\n",
              "      <td>0.000000</td>\n",
              "      <td>0.000000</td>\n",
              "    </tr>\n",
              "    <tr>\n",
              "      <th>75%</th>\n",
              "      <td>6.900700e-01</td>\n",
              "      <td>4.481925e-01</td>\n",
              "      <td>7.468539e-01</td>\n",
              "      <td>-1.454040e-01</td>\n",
              "      <td>-2.155094e-01</td>\n",
              "      <td>3.743394e-01</td>\n",
              "      <td>5.944130e-01</td>\n",
              "      <td>6.092515e-01</td>\n",
              "      <td>0.000000</td>\n",
              "      <td>0.000000</td>\n",
              "      <td>...</td>\n",
              "      <td>0.000000</td>\n",
              "      <td>0.000000</td>\n",
              "      <td>0.000000</td>\n",
              "      <td>0.000000</td>\n",
              "      <td>0.000000</td>\n",
              "      <td>0.000000</td>\n",
              "      <td>0.000000</td>\n",
              "      <td>1.000000</td>\n",
              "      <td>0.000000</td>\n",
              "      <td>0.000000</td>\n",
              "    </tr>\n",
              "    <tr>\n",
              "      <th>max</th>\n",
              "      <td>3.772767e+00</td>\n",
              "      <td>1.231240e+01</td>\n",
              "      <td>2.308209e+00</td>\n",
              "      <td>1.317506e+01</td>\n",
              "      <td>1.064839e+01</td>\n",
              "      <td>4.767007e+00</td>\n",
              "      <td>5.288533e+00</td>\n",
              "      <td>6.618461e+00</td>\n",
              "      <td>1.000000</td>\n",
              "      <td>1.000000</td>\n",
              "      <td>...</td>\n",
              "      <td>1.000000</td>\n",
              "      <td>1.000000</td>\n",
              "      <td>1.000000</td>\n",
              "      <td>1.000000</td>\n",
              "      <td>1.000000</td>\n",
              "      <td>1.000000</td>\n",
              "      <td>1.000000</td>\n",
              "      <td>1.000000</td>\n",
              "      <td>1.000000</td>\n",
              "      <td>1.000000</td>\n",
              "    </tr>\n",
              "  </tbody>\n",
              "</table>\n",
              "<p>8 rows × 87 columns</p>\n",
              "</div>\n",
              "      <button class=\"colab-df-convert\" onclick=\"convertToInteractive('df-5ace9550-c631-47c1-a979-715e7e664a6d')\"\n",
              "              title=\"Convert this dataframe to an interactive table.\"\n",
              "              style=\"display:none;\">\n",
              "        \n",
              "  <svg xmlns=\"http://www.w3.org/2000/svg\" height=\"24px\"viewBox=\"0 0 24 24\"\n",
              "       width=\"24px\">\n",
              "    <path d=\"M0 0h24v24H0V0z\" fill=\"none\"/>\n",
              "    <path d=\"M18.56 5.44l.94 2.06.94-2.06 2.06-.94-2.06-.94-.94-2.06-.94 2.06-2.06.94zm-11 1L8.5 8.5l.94-2.06 2.06-.94-2.06-.94L8.5 2.5l-.94 2.06-2.06.94zm10 10l.94 2.06.94-2.06 2.06-.94-2.06-.94-.94-2.06-.94 2.06-2.06.94z\"/><path d=\"M17.41 7.96l-1.37-1.37c-.4-.4-.92-.59-1.43-.59-.52 0-1.04.2-1.43.59L10.3 9.45l-7.72 7.72c-.78.78-.78 2.05 0 2.83L4 21.41c.39.39.9.59 1.41.59.51 0 1.02-.2 1.41-.59l7.78-7.78 2.81-2.81c.8-.78.8-2.07 0-2.86zM5.41 20L4 18.59l7.72-7.72 1.47 1.35L5.41 20z\"/>\n",
              "  </svg>\n",
              "      </button>\n",
              "      \n",
              "  <style>\n",
              "    .colab-df-container {\n",
              "      display:flex;\n",
              "      flex-wrap:wrap;\n",
              "      gap: 12px;\n",
              "    }\n",
              "\n",
              "    .colab-df-convert {\n",
              "      background-color: #E8F0FE;\n",
              "      border: none;\n",
              "      border-radius: 50%;\n",
              "      cursor: pointer;\n",
              "      display: none;\n",
              "      fill: #1967D2;\n",
              "      height: 32px;\n",
              "      padding: 0 0 0 0;\n",
              "      width: 32px;\n",
              "    }\n",
              "\n",
              "    .colab-df-convert:hover {\n",
              "      background-color: #E2EBFA;\n",
              "      box-shadow: 0px 1px 2px rgba(60, 64, 67, 0.3), 0px 1px 3px 1px rgba(60, 64, 67, 0.15);\n",
              "      fill: #174EA6;\n",
              "    }\n",
              "\n",
              "    [theme=dark] .colab-df-convert {\n",
              "      background-color: #3B4455;\n",
              "      fill: #D2E3FC;\n",
              "    }\n",
              "\n",
              "    [theme=dark] .colab-df-convert:hover {\n",
              "      background-color: #434B5C;\n",
              "      box-shadow: 0px 1px 3px 1px rgba(0, 0, 0, 0.15);\n",
              "      filter: drop-shadow(0px 1px 2px rgba(0, 0, 0, 0.3));\n",
              "      fill: #FFFFFF;\n",
              "    }\n",
              "  </style>\n",
              "\n",
              "      <script>\n",
              "        const buttonEl =\n",
              "          document.querySelector('#df-5ace9550-c631-47c1-a979-715e7e664a6d button.colab-df-convert');\n",
              "        buttonEl.style.display =\n",
              "          google.colab.kernel.accessAllowed ? 'block' : 'none';\n",
              "\n",
              "        async function convertToInteractive(key) {\n",
              "          const element = document.querySelector('#df-5ace9550-c631-47c1-a979-715e7e664a6d');\n",
              "          const dataTable =\n",
              "            await google.colab.kernel.invokeFunction('convertToInteractive',\n",
              "                                                     [key], {});\n",
              "          if (!dataTable) return;\n",
              "\n",
              "          const docLinkHtml = 'Like what you see? Visit the ' +\n",
              "            '<a target=\"_blank\" href=https://colab.research.google.com/notebooks/data_table.ipynb>data table notebook</a>'\n",
              "            + ' to learn more about interactive tables.';\n",
              "          element.innerHTML = '';\n",
              "          dataTable['output_type'] = 'display_data';\n",
              "          await google.colab.output.renderOutput(dataTable, element);\n",
              "          const docLink = document.createElement('div');\n",
              "          docLink.innerHTML = docLinkHtml;\n",
              "          element.appendChild(docLink);\n",
              "        }\n",
              "      </script>\n",
              "    </div>\n",
              "  </div>\n",
              "  "
            ]
          },
          "metadata": {},
          "execution_count": 252
        }
      ]
    },
    {
      "cell_type": "code",
      "source": [
        "df.shape"
      ],
      "metadata": {
        "colab": {
          "base_uri": "https://localhost:8080/"
        },
        "id": "Jy26YVv9tKoj",
        "outputId": "6bcdd96c-e5e2-4f1a-b441-25a4ef0b1dcb"
      },
      "execution_count": null,
      "outputs": [
        {
          "output_type": "execute_result",
          "data": {
            "text/plain": [
              "(26612, 87)"
            ]
          },
          "metadata": {},
          "execution_count": 253
        }
      ]
    },
    {
      "cell_type": "code",
      "source": [
        "df.mean()"
      ],
      "metadata": {
        "colab": {
          "base_uri": "https://localhost:8080/"
        },
        "id": "96TYmrM9tRZb",
        "outputId": "b43ce558-c4b0-4668-f75b-cc086f790ff6"
      },
      "execution_count": null,
      "outputs": [
        {
          "output_type": "execute_result",
          "data": {
            "text/plain": [
              "age                              -6.007520e-18\n",
              "fnlwgt                           -1.128079e-16\n",
              "education-num                    -2.742099e-16\n",
              "capital-gain                     -4.752616e-17\n",
              "capital-loss                     -1.288279e-17\n",
              "                                      ...     \n",
              "native-country_Thailand           6.012325e-04\n",
              "native-country_Trinadad&Tobago    4.509244e-04\n",
              "native-country_United-States      8.966632e-01\n",
              "native-country_Vietnam            1.991583e-03\n",
              "native-country_Yugoslavia         4.509244e-04\n",
              "Length: 87, dtype: float64"
            ]
          },
          "metadata": {},
          "execution_count": 254
        }
      ]
    },
    {
      "cell_type": "code",
      "source": [
        "df.median()"
      ],
      "metadata": {
        "colab": {
          "base_uri": "https://localhost:8080/"
        },
        "id": "uEWrEdLTtRc6",
        "outputId": "b32c5e9d-2d70-4414-b2b5-5604dabc7e58"
      },
      "execution_count": null,
      "outputs": [
        {
          "output_type": "execute_result",
          "data": {
            "text/plain": [
              "age                              -0.117303\n",
              "fnlwgt                           -0.107851\n",
              "education-num                    -0.033824\n",
              "capital-gain                     -0.145404\n",
              "capital-loss                     -0.215509\n",
              "                                    ...   \n",
              "native-country_Thailand           0.000000\n",
              "native-country_Trinadad&Tobago    0.000000\n",
              "native-country_United-States      1.000000\n",
              "native-country_Vietnam            0.000000\n",
              "native-country_Yugoslavia         0.000000\n",
              "Length: 87, dtype: float64"
            ]
          },
          "metadata": {},
          "execution_count": 255
        }
      ]
    },
    {
      "cell_type": "code",
      "source": [
        "df.info()"
      ],
      "metadata": {
        "colab": {
          "base_uri": "https://localhost:8080/"
        },
        "id": "sQWKP7F5tb4O",
        "outputId": "2d5e9ef6-00b5-41c3-e131-36de3d9506ab"
      },
      "execution_count": null,
      "outputs": [
        {
          "output_type": "stream",
          "name": "stdout",
          "text": [
            "<class 'pandas.core.frame.DataFrame'>\n",
            "Int64Index: 26612 entries, 0 to 26646\n",
            "Data columns (total 87 columns):\n",
            " #   Column                                     Non-Null Count  Dtype  \n",
            "---  ------                                     --------------  -----  \n",
            " 0   age                                        26612 non-null  float64\n",
            " 1   fnlwgt                                     26612 non-null  float64\n",
            " 2   education-num                              26612 non-null  float64\n",
            " 3   capital-gain                               26612 non-null  float64\n",
            " 4   capital-loss                               26612 non-null  float64\n",
            " 5   hours-per-week                             26612 non-null  float64\n",
            " 6   age_education                              26612 non-null  float64\n",
            " 7   education_hours                            26612 non-null  float64\n",
            " 8   workclass_ Local-gov                       26612 non-null  uint8  \n",
            " 9   workclass_ Never-worked                    26612 non-null  uint8  \n",
            " 10  workclass_ Private                         26612 non-null  uint8  \n",
            " 11  workclass_ Self-emp-inc                    26612 non-null  uint8  \n",
            " 12  workclass_ Self-emp-not-inc                26612 non-null  uint8  \n",
            " 13  workclass_ State-gov                       26612 non-null  uint8  \n",
            " 14  workclass_ Without-pay                     26612 non-null  uint8  \n",
            " 15  workclass_Other                            26612 non-null  uint8  \n",
            " 16  marital-status_ Married-AF-spouse          26612 non-null  uint8  \n",
            " 17  marital-status_ Married-civ-spouse         26612 non-null  uint8  \n",
            " 18  marital-status_ Married-spouse-absent      26612 non-null  uint8  \n",
            " 19  marital-status_ Never-married              26612 non-null  uint8  \n",
            " 20  marital-status_ Separated                  26612 non-null  uint8  \n",
            " 21  marital-status_ Widowed                    26612 non-null  uint8  \n",
            " 22  occupation_ Armed-Forces                   26612 non-null  uint8  \n",
            " 23  occupation_ Craft-repair                   26612 non-null  uint8  \n",
            " 24  occupation_ Exec-managerial                26612 non-null  uint8  \n",
            " 25  occupation_ Farming-fishing                26612 non-null  uint8  \n",
            " 26  occupation_ Handlers-cleaners              26612 non-null  uint8  \n",
            " 27  occupation_ Machine-op-inspct              26612 non-null  uint8  \n",
            " 28  occupation_ Other-service                  26612 non-null  uint8  \n",
            " 29  occupation_ Priv-house-serv                26612 non-null  uint8  \n",
            " 30  occupation_ Prof-specialty                 26612 non-null  uint8  \n",
            " 31  occupation_ Protective-serv                26612 non-null  uint8  \n",
            " 32  occupation_ Sales                          26612 non-null  uint8  \n",
            " 33  occupation_ Tech-support                   26612 non-null  uint8  \n",
            " 34  occupation_ Transport-moving               26612 non-null  uint8  \n",
            " 35  occupation_Other-service                   26612 non-null  uint8  \n",
            " 36  relationship_ Not-in-family                26612 non-null  uint8  \n",
            " 37  relationship_ Other-relative               26612 non-null  uint8  \n",
            " 38  relationship_ Own-child                    26612 non-null  uint8  \n",
            " 39  relationship_ Unmarried                    26612 non-null  uint8  \n",
            " 40  relationship_ Wife                         26612 non-null  uint8  \n",
            " 41  race_ Asian-Pac-Islander                   26612 non-null  uint8  \n",
            " 42  race_ Black                                26612 non-null  uint8  \n",
            " 43  race_ Other                                26612 non-null  uint8  \n",
            " 44  race_ White                                26612 non-null  uint8  \n",
            " 45  sex_ Male                                  26612 non-null  uint8  \n",
            " 46  native-country_Canada                      26612 non-null  uint8  \n",
            " 47  native-country_China                       26612 non-null  uint8  \n",
            " 48  native-country_Columbia                    26612 non-null  uint8  \n",
            " 49  native-country_Cuba                        26612 non-null  uint8  \n",
            " 50  native-country_Dominican-Republic          26612 non-null  uint8  \n",
            " 51  native-country_Ecuador                     26612 non-null  uint8  \n",
            " 52  native-country_El-Salvador                 26612 non-null  uint8  \n",
            " 53  native-country_England                     26612 non-null  uint8  \n",
            " 54  native-country_France                      26612 non-null  uint8  \n",
            " 55  native-country_Germany                     26612 non-null  uint8  \n",
            " 56  native-country_Greece                      26612 non-null  uint8  \n",
            " 57  native-country_Guatemala                   26612 non-null  uint8  \n",
            " 58  native-country_Haiti                       26612 non-null  uint8  \n",
            " 59  native-country_Holand-Netherlands          26612 non-null  uint8  \n",
            " 60  native-country_Honduras                    26612 non-null  uint8  \n",
            " 61  native-country_Hong                        26612 non-null  uint8  \n",
            " 62  native-country_Hungary                     26612 non-null  uint8  \n",
            " 63  native-country_India                       26612 non-null  uint8  \n",
            " 64  native-country_Iran                        26612 non-null  uint8  \n",
            " 65  native-country_Ireland                     26612 non-null  uint8  \n",
            " 66  native-country_Italy                       26612 non-null  uint8  \n",
            " 67  native-country_Jamaica                     26612 non-null  uint8  \n",
            " 68  native-country_Japan                       26612 non-null  uint8  \n",
            " 69  native-country_Laos                        26612 non-null  uint8  \n",
            " 70  native-country_Mexico                      26612 non-null  uint8  \n",
            " 71  native-country_Nicaragua                   26612 non-null  uint8  \n",
            " 72  native-country_Other-country               26612 non-null  uint8  \n",
            " 73  native-country_Outlying-US(Guam-USVI-etc)  26612 non-null  uint8  \n",
            " 74  native-country_Peru                        26612 non-null  uint8  \n",
            " 75  native-country_Philippines                 26612 non-null  uint8  \n",
            " 76  native-country_Poland                      26612 non-null  uint8  \n",
            " 77  native-country_Portugal                    26612 non-null  uint8  \n",
            " 78  native-country_Puerto-Rico                 26612 non-null  uint8  \n",
            " 79  native-country_Scotland                    26612 non-null  uint8  \n",
            " 80  native-country_South                       26612 non-null  uint8  \n",
            " 81  native-country_Taiwan                      26612 non-null  uint8  \n",
            " 82  native-country_Thailand                    26612 non-null  uint8  \n",
            " 83  native-country_Trinadad&Tobago             26612 non-null  uint8  \n",
            " 84  native-country_United-States               26612 non-null  uint8  \n",
            " 85  native-country_Vietnam                     26612 non-null  uint8  \n",
            " 86  native-country_Yugoslavia                  26612 non-null  uint8  \n",
            "dtypes: float64(8), uint8(79)\n",
            "memory usage: 3.8 MB\n"
          ]
        }
      ]
    },
    {
      "cell_type": "code",
      "source": [
        "len(df)"
      ],
      "metadata": {
        "colab": {
          "base_uri": "https://localhost:8080/"
        },
        "id": "VrJgR8mktb7y",
        "outputId": "59d5f0e7-3c0f-45e3-fdf1-b41f944fa13c"
      },
      "execution_count": null,
      "outputs": [
        {
          "output_type": "execute_result",
          "data": {
            "text/plain": [
              "26612"
            ]
          },
          "metadata": {},
          "execution_count": 257
        }
      ]
    },
    {
      "cell_type": "code",
      "source": [
        "counts = df.nunique()\n",
        "counts"
      ],
      "metadata": {
        "id": "W7m3iTzRyne9",
        "colab": {
          "base_uri": "https://localhost:8080/"
        },
        "outputId": "4985f598-418f-4bfd-a5e6-9e4c6bcaca42"
      },
      "execution_count": null,
      "outputs": [
        {
          "output_type": "execute_result",
          "data": {
            "text/plain": [
              "age                  72\n",
              "workclass             9\n",
              "fnlwgt            18714\n",
              "education            16\n",
              "education-num        16\n",
              "marital-status        7\n",
              "occupation           15\n",
              "relationship          6\n",
              "race                  5\n",
              "sex                   2\n",
              "capital-gain        117\n",
              "capital-loss         90\n",
              "hours-per-week       94\n",
              "native-country       42\n",
              "salary                2\n",
              "dtype: int64"
            ]
          },
          "metadata": {},
          "execution_count": 221
        }
      ]
    },
    {
      "cell_type": "code",
      "source": [
        "df.isna().sum()"
      ],
      "metadata": {
        "id": "pf-NijFuynif",
        "colab": {
          "base_uri": "https://localhost:8080/"
        },
        "outputId": "3473fc38-f149-4a63-a42a-4208e71c0a6a"
      },
      "execution_count": null,
      "outputs": [
        {
          "output_type": "execute_result",
          "data": {
            "text/plain": [
              "age               0\n",
              "workclass         0\n",
              "fnlwgt            0\n",
              "education         0\n",
              "education-num     0\n",
              "marital-status    0\n",
              "occupation        0\n",
              "relationship      0\n",
              "race              0\n",
              "sex               0\n",
              "capital-gain      0\n",
              "capital-loss      0\n",
              "hours-per-week    0\n",
              "native-country    0\n",
              "salary            0\n",
              "dtype: int64"
            ]
          },
          "metadata": {},
          "execution_count": 222
        }
      ]
    },
    {
      "cell_type": "code",
      "source": [
        "df.replace(' ?' , np.nan ,inplace=True)\n",
        "df.isna().sum()"
      ],
      "metadata": {
        "colab": {
          "base_uri": "https://localhost:8080/"
        },
        "id": "seEYU5hydukA",
        "outputId": "c89bc0e5-b955-46a6-e08f-e70010b54972"
      },
      "execution_count": null,
      "outputs": [
        {
          "output_type": "execute_result",
          "data": {
            "text/plain": [
              "age                  0\n",
              "workclass         1495\n",
              "fnlwgt               0\n",
              "education            0\n",
              "education-num        0\n",
              "marital-status       0\n",
              "occupation        1500\n",
              "relationship         0\n",
              "race                 0\n",
              "sex                  0\n",
              "capital-gain         0\n",
              "capital-loss         0\n",
              "hours-per-week       0\n",
              "native-country     479\n",
              "salary               0\n",
              "dtype: int64"
            ]
          },
          "metadata": {},
          "execution_count": 223
        }
      ]
    },
    {
      "cell_type": "code",
      "source": [
        "df.drop_duplicates(inplace=True)"
      ],
      "metadata": {
        "id": "xm6vuZVOfqfS"
      },
      "execution_count": null,
      "outputs": []
    },
    {
      "cell_type": "code",
      "source": [
        "def remove_outlier_IQR(df):\n",
        "    num_columns = [x for x in df.columns if df[x].dtype !=object]\n",
        "    reduced_df=df[num_columns]\n",
        "    Q1=reduced_df.quantile(0.25)\n",
        "    Q3=reduced_df.quantile(0.75)\n",
        "    IQR=Q3-Q1\n",
        "    df_final_index=reduced_df[~((reduced_df<(Q1-1.5*IQR)) | (reduced_df>(Q3+1.5*IQR)))].index\n",
        "    return df.loc[df_final_index.values]"
      ],
      "metadata": {
        "id": "k2RI-bqTfqhn"
      },
      "execution_count": null,
      "outputs": []
    },
    {
      "cell_type": "code",
      "source": [
        "df.drop_duplicates(inplace=True)"
      ],
      "metadata": {
        "id": "fhSbG6yxfqlV"
      },
      "execution_count": null,
      "outputs": []
    },
    {
      "cell_type": "code",
      "source": [
        "df_old = df[(df.age >= 80)&(df['hours-per-week'] >=50)]\n",
        "df_old"
      ],
      "metadata": {
        "colab": {
          "base_uri": "https://localhost:8080/",
          "height": 1000
        },
        "id": "kJEgn-hTeFRJ",
        "outputId": "d38500cf-15ed-4978-8007-c495b925d96f"
      },
      "execution_count": null,
      "outputs": [
        {
          "output_type": "execute_result",
          "data": {
            "text/plain": [
              "       age          workclass  fnlwgt      education  education-num  \\\n",
              "3777    80            Private   87518   Some-college             10   \n",
              "5370    90          Local-gov  227796        Masters             14   \n",
              "5406    90            Private   51744        Masters             14   \n",
              "6232    90   Self-emp-not-inc  155981      Bachelors             13   \n",
              "7481    83            Private  195507        HS-grad              9   \n",
              "7720    84            Private  241065        Masters             14   \n",
              "8806    90            Private   87372    Prof-school             15   \n",
              "10545   90            Private  175491        HS-grad              9   \n",
              "11996   90            Private   40388      Bachelors             13   \n",
              "12830   81            Private  201398        Masters             14   \n",
              "15356   90            Private   90523        HS-grad              9   \n",
              "20463   85   Self-emp-not-inc  166027        HS-grad              9   \n",
              "23459   83       Self-emp-inc  240150           10th              6   \n",
              "24280   82       Self-emp-inc  130329        7th-8th              4   \n",
              "24395   83       Self-emp-inc  153183      Bachelors             13   \n",
              "24560   81            Private   98116      Bachelors             13   \n",
              "\n",
              "            marital-status         occupation    relationship    race  \\\n",
              "3777         Never-married     Prof-specialty   Not-in-family   White   \n",
              "5370    Married-civ-spouse    Exec-managerial         Husband   White   \n",
              "5406         Never-married    Exec-managerial   Not-in-family   Black   \n",
              "6232    Married-civ-spouse     Prof-specialty         Husband   White   \n",
              "7481               Widowed    Protective-serv   Not-in-family   White   \n",
              "7720         Never-married     Prof-specialty   Not-in-family   White   \n",
              "8806    Married-civ-spouse     Prof-specialty         Husband   White   \n",
              "10545   Married-civ-spouse       Craft-repair         Husband   White   \n",
              "11996        Never-married    Exec-managerial   Not-in-family   White   \n",
              "12830              Widowed     Prof-specialty       Unmarried   White   \n",
              "15356              Widowed   Transport-moving       Unmarried   White   \n",
              "20463              Widowed              Sales   Not-in-family   White   \n",
              "23459   Married-civ-spouse    Farming-fishing         Husband   White   \n",
              "24280   Married-civ-spouse    Farming-fishing         Husband   White   \n",
              "24395   Married-civ-spouse    Exec-managerial         Husband   White   \n",
              "24560              Widowed              Sales   Not-in-family   White   \n",
              "\n",
              "           sex  capital-gain  capital-loss  hours-per-week  native-country  \\\n",
              "3777      Male             0          1816              60   United-States   \n",
              "5370      Male         20051             0              60   United-States   \n",
              "5406      Male             0             0              50   United-States   \n",
              "6232      Male         10566             0              50   United-States   \n",
              "7481      Male             0             0              55   United-States   \n",
              "7720      Male             0             0              66   United-States   \n",
              "8806      Male         20051             0              72   United-States   \n",
              "10545     Male          9386             0              50         Ecuador   \n",
              "11996     Male             0             0              55   United-States   \n",
              "12830     Male             0             0              60             NaN   \n",
              "15356     Male             0             0              99   United-States   \n",
              "20463   Female             0             0              50   United-States   \n",
              "23459     Male         20051             0              50   United-States   \n",
              "24280     Male             0             0              50   United-States   \n",
              "24395     Male             0          2392              55   United-States   \n",
              "24560     Male             0             0              50   United-States   \n",
              "\n",
              "       salary  \n",
              "3777    <=50K  \n",
              "5370     >50K  \n",
              "5406     >50K  \n",
              "6232    <=50K  \n",
              "7481    <=50K  \n",
              "7720    <=50K  \n",
              "8806     >50K  \n",
              "10545    >50K  \n",
              "11996   <=50K  \n",
              "12830   <=50K  \n",
              "15356   <=50K  \n",
              "20463   <=50K  \n",
              "23459    >50K  \n",
              "24280   <=50K  \n",
              "24395    >50K  \n",
              "24560    >50K  "
            ],
            "text/html": [
              "\n",
              "  <div id=\"df-651f165c-72f7-46f6-bfeb-4a44a3f17795\">\n",
              "    <div class=\"colab-df-container\">\n",
              "      <div>\n",
              "<style scoped>\n",
              "    .dataframe tbody tr th:only-of-type {\n",
              "        vertical-align: middle;\n",
              "    }\n",
              "\n",
              "    .dataframe tbody tr th {\n",
              "        vertical-align: top;\n",
              "    }\n",
              "\n",
              "    .dataframe thead th {\n",
              "        text-align: right;\n",
              "    }\n",
              "</style>\n",
              "<table border=\"1\" class=\"dataframe\">\n",
              "  <thead>\n",
              "    <tr style=\"text-align: right;\">\n",
              "      <th></th>\n",
              "      <th>age</th>\n",
              "      <th>workclass</th>\n",
              "      <th>fnlwgt</th>\n",
              "      <th>education</th>\n",
              "      <th>education-num</th>\n",
              "      <th>marital-status</th>\n",
              "      <th>occupation</th>\n",
              "      <th>relationship</th>\n",
              "      <th>race</th>\n",
              "      <th>sex</th>\n",
              "      <th>capital-gain</th>\n",
              "      <th>capital-loss</th>\n",
              "      <th>hours-per-week</th>\n",
              "      <th>native-country</th>\n",
              "      <th>salary</th>\n",
              "    </tr>\n",
              "  </thead>\n",
              "  <tbody>\n",
              "    <tr>\n",
              "      <th>3777</th>\n",
              "      <td>80</td>\n",
              "      <td>Private</td>\n",
              "      <td>87518</td>\n",
              "      <td>Some-college</td>\n",
              "      <td>10</td>\n",
              "      <td>Never-married</td>\n",
              "      <td>Prof-specialty</td>\n",
              "      <td>Not-in-family</td>\n",
              "      <td>White</td>\n",
              "      <td>Male</td>\n",
              "      <td>0</td>\n",
              "      <td>1816</td>\n",
              "      <td>60</td>\n",
              "      <td>United-States</td>\n",
              "      <td>&lt;=50K</td>\n",
              "    </tr>\n",
              "    <tr>\n",
              "      <th>5370</th>\n",
              "      <td>90</td>\n",
              "      <td>Local-gov</td>\n",
              "      <td>227796</td>\n",
              "      <td>Masters</td>\n",
              "      <td>14</td>\n",
              "      <td>Married-civ-spouse</td>\n",
              "      <td>Exec-managerial</td>\n",
              "      <td>Husband</td>\n",
              "      <td>White</td>\n",
              "      <td>Male</td>\n",
              "      <td>20051</td>\n",
              "      <td>0</td>\n",
              "      <td>60</td>\n",
              "      <td>United-States</td>\n",
              "      <td>&gt;50K</td>\n",
              "    </tr>\n",
              "    <tr>\n",
              "      <th>5406</th>\n",
              "      <td>90</td>\n",
              "      <td>Private</td>\n",
              "      <td>51744</td>\n",
              "      <td>Masters</td>\n",
              "      <td>14</td>\n",
              "      <td>Never-married</td>\n",
              "      <td>Exec-managerial</td>\n",
              "      <td>Not-in-family</td>\n",
              "      <td>Black</td>\n",
              "      <td>Male</td>\n",
              "      <td>0</td>\n",
              "      <td>0</td>\n",
              "      <td>50</td>\n",
              "      <td>United-States</td>\n",
              "      <td>&gt;50K</td>\n",
              "    </tr>\n",
              "    <tr>\n",
              "      <th>6232</th>\n",
              "      <td>90</td>\n",
              "      <td>Self-emp-not-inc</td>\n",
              "      <td>155981</td>\n",
              "      <td>Bachelors</td>\n",
              "      <td>13</td>\n",
              "      <td>Married-civ-spouse</td>\n",
              "      <td>Prof-specialty</td>\n",
              "      <td>Husband</td>\n",
              "      <td>White</td>\n",
              "      <td>Male</td>\n",
              "      <td>10566</td>\n",
              "      <td>0</td>\n",
              "      <td>50</td>\n",
              "      <td>United-States</td>\n",
              "      <td>&lt;=50K</td>\n",
              "    </tr>\n",
              "    <tr>\n",
              "      <th>7481</th>\n",
              "      <td>83</td>\n",
              "      <td>Private</td>\n",
              "      <td>195507</td>\n",
              "      <td>HS-grad</td>\n",
              "      <td>9</td>\n",
              "      <td>Widowed</td>\n",
              "      <td>Protective-serv</td>\n",
              "      <td>Not-in-family</td>\n",
              "      <td>White</td>\n",
              "      <td>Male</td>\n",
              "      <td>0</td>\n",
              "      <td>0</td>\n",
              "      <td>55</td>\n",
              "      <td>United-States</td>\n",
              "      <td>&lt;=50K</td>\n",
              "    </tr>\n",
              "    <tr>\n",
              "      <th>7720</th>\n",
              "      <td>84</td>\n",
              "      <td>Private</td>\n",
              "      <td>241065</td>\n",
              "      <td>Masters</td>\n",
              "      <td>14</td>\n",
              "      <td>Never-married</td>\n",
              "      <td>Prof-specialty</td>\n",
              "      <td>Not-in-family</td>\n",
              "      <td>White</td>\n",
              "      <td>Male</td>\n",
              "      <td>0</td>\n",
              "      <td>0</td>\n",
              "      <td>66</td>\n",
              "      <td>United-States</td>\n",
              "      <td>&lt;=50K</td>\n",
              "    </tr>\n",
              "    <tr>\n",
              "      <th>8806</th>\n",
              "      <td>90</td>\n",
              "      <td>Private</td>\n",
              "      <td>87372</td>\n",
              "      <td>Prof-school</td>\n",
              "      <td>15</td>\n",
              "      <td>Married-civ-spouse</td>\n",
              "      <td>Prof-specialty</td>\n",
              "      <td>Husband</td>\n",
              "      <td>White</td>\n",
              "      <td>Male</td>\n",
              "      <td>20051</td>\n",
              "      <td>0</td>\n",
              "      <td>72</td>\n",
              "      <td>United-States</td>\n",
              "      <td>&gt;50K</td>\n",
              "    </tr>\n",
              "    <tr>\n",
              "      <th>10545</th>\n",
              "      <td>90</td>\n",
              "      <td>Private</td>\n",
              "      <td>175491</td>\n",
              "      <td>HS-grad</td>\n",
              "      <td>9</td>\n",
              "      <td>Married-civ-spouse</td>\n",
              "      <td>Craft-repair</td>\n",
              "      <td>Husband</td>\n",
              "      <td>White</td>\n",
              "      <td>Male</td>\n",
              "      <td>9386</td>\n",
              "      <td>0</td>\n",
              "      <td>50</td>\n",
              "      <td>Ecuador</td>\n",
              "      <td>&gt;50K</td>\n",
              "    </tr>\n",
              "    <tr>\n",
              "      <th>11996</th>\n",
              "      <td>90</td>\n",
              "      <td>Private</td>\n",
              "      <td>40388</td>\n",
              "      <td>Bachelors</td>\n",
              "      <td>13</td>\n",
              "      <td>Never-married</td>\n",
              "      <td>Exec-managerial</td>\n",
              "      <td>Not-in-family</td>\n",
              "      <td>White</td>\n",
              "      <td>Male</td>\n",
              "      <td>0</td>\n",
              "      <td>0</td>\n",
              "      <td>55</td>\n",
              "      <td>United-States</td>\n",
              "      <td>&lt;=50K</td>\n",
              "    </tr>\n",
              "    <tr>\n",
              "      <th>12830</th>\n",
              "      <td>81</td>\n",
              "      <td>Private</td>\n",
              "      <td>201398</td>\n",
              "      <td>Masters</td>\n",
              "      <td>14</td>\n",
              "      <td>Widowed</td>\n",
              "      <td>Prof-specialty</td>\n",
              "      <td>Unmarried</td>\n",
              "      <td>White</td>\n",
              "      <td>Male</td>\n",
              "      <td>0</td>\n",
              "      <td>0</td>\n",
              "      <td>60</td>\n",
              "      <td>NaN</td>\n",
              "      <td>&lt;=50K</td>\n",
              "    </tr>\n",
              "    <tr>\n",
              "      <th>15356</th>\n",
              "      <td>90</td>\n",
              "      <td>Private</td>\n",
              "      <td>90523</td>\n",
              "      <td>HS-grad</td>\n",
              "      <td>9</td>\n",
              "      <td>Widowed</td>\n",
              "      <td>Transport-moving</td>\n",
              "      <td>Unmarried</td>\n",
              "      <td>White</td>\n",
              "      <td>Male</td>\n",
              "      <td>0</td>\n",
              "      <td>0</td>\n",
              "      <td>99</td>\n",
              "      <td>United-States</td>\n",
              "      <td>&lt;=50K</td>\n",
              "    </tr>\n",
              "    <tr>\n",
              "      <th>20463</th>\n",
              "      <td>85</td>\n",
              "      <td>Self-emp-not-inc</td>\n",
              "      <td>166027</td>\n",
              "      <td>HS-grad</td>\n",
              "      <td>9</td>\n",
              "      <td>Widowed</td>\n",
              "      <td>Sales</td>\n",
              "      <td>Not-in-family</td>\n",
              "      <td>White</td>\n",
              "      <td>Female</td>\n",
              "      <td>0</td>\n",
              "      <td>0</td>\n",
              "      <td>50</td>\n",
              "      <td>United-States</td>\n",
              "      <td>&lt;=50K</td>\n",
              "    </tr>\n",
              "    <tr>\n",
              "      <th>23459</th>\n",
              "      <td>83</td>\n",
              "      <td>Self-emp-inc</td>\n",
              "      <td>240150</td>\n",
              "      <td>10th</td>\n",
              "      <td>6</td>\n",
              "      <td>Married-civ-spouse</td>\n",
              "      <td>Farming-fishing</td>\n",
              "      <td>Husband</td>\n",
              "      <td>White</td>\n",
              "      <td>Male</td>\n",
              "      <td>20051</td>\n",
              "      <td>0</td>\n",
              "      <td>50</td>\n",
              "      <td>United-States</td>\n",
              "      <td>&gt;50K</td>\n",
              "    </tr>\n",
              "    <tr>\n",
              "      <th>24280</th>\n",
              "      <td>82</td>\n",
              "      <td>Self-emp-inc</td>\n",
              "      <td>130329</td>\n",
              "      <td>7th-8th</td>\n",
              "      <td>4</td>\n",
              "      <td>Married-civ-spouse</td>\n",
              "      <td>Farming-fishing</td>\n",
              "      <td>Husband</td>\n",
              "      <td>White</td>\n",
              "      <td>Male</td>\n",
              "      <td>0</td>\n",
              "      <td>0</td>\n",
              "      <td>50</td>\n",
              "      <td>United-States</td>\n",
              "      <td>&lt;=50K</td>\n",
              "    </tr>\n",
              "    <tr>\n",
              "      <th>24395</th>\n",
              "      <td>83</td>\n",
              "      <td>Self-emp-inc</td>\n",
              "      <td>153183</td>\n",
              "      <td>Bachelors</td>\n",
              "      <td>13</td>\n",
              "      <td>Married-civ-spouse</td>\n",
              "      <td>Exec-managerial</td>\n",
              "      <td>Husband</td>\n",
              "      <td>White</td>\n",
              "      <td>Male</td>\n",
              "      <td>0</td>\n",
              "      <td>2392</td>\n",
              "      <td>55</td>\n",
              "      <td>United-States</td>\n",
              "      <td>&gt;50K</td>\n",
              "    </tr>\n",
              "    <tr>\n",
              "      <th>24560</th>\n",
              "      <td>81</td>\n",
              "      <td>Private</td>\n",
              "      <td>98116</td>\n",
              "      <td>Bachelors</td>\n",
              "      <td>13</td>\n",
              "      <td>Widowed</td>\n",
              "      <td>Sales</td>\n",
              "      <td>Not-in-family</td>\n",
              "      <td>White</td>\n",
              "      <td>Male</td>\n",
              "      <td>0</td>\n",
              "      <td>0</td>\n",
              "      <td>50</td>\n",
              "      <td>United-States</td>\n",
              "      <td>&gt;50K</td>\n",
              "    </tr>\n",
              "  </tbody>\n",
              "</table>\n",
              "</div>\n",
              "      <button class=\"colab-df-convert\" onclick=\"convertToInteractive('df-651f165c-72f7-46f6-bfeb-4a44a3f17795')\"\n",
              "              title=\"Convert this dataframe to an interactive table.\"\n",
              "              style=\"display:none;\">\n",
              "        \n",
              "  <svg xmlns=\"http://www.w3.org/2000/svg\" height=\"24px\"viewBox=\"0 0 24 24\"\n",
              "       width=\"24px\">\n",
              "    <path d=\"M0 0h24v24H0V0z\" fill=\"none\"/>\n",
              "    <path d=\"M18.56 5.44l.94 2.06.94-2.06 2.06-.94-2.06-.94-.94-2.06-.94 2.06-2.06.94zm-11 1L8.5 8.5l.94-2.06 2.06-.94-2.06-.94L8.5 2.5l-.94 2.06-2.06.94zm10 10l.94 2.06.94-2.06 2.06-.94-2.06-.94-.94-2.06-.94 2.06-2.06.94z\"/><path d=\"M17.41 7.96l-1.37-1.37c-.4-.4-.92-.59-1.43-.59-.52 0-1.04.2-1.43.59L10.3 9.45l-7.72 7.72c-.78.78-.78 2.05 0 2.83L4 21.41c.39.39.9.59 1.41.59.51 0 1.02-.2 1.41-.59l7.78-7.78 2.81-2.81c.8-.78.8-2.07 0-2.86zM5.41 20L4 18.59l7.72-7.72 1.47 1.35L5.41 20z\"/>\n",
              "  </svg>\n",
              "      </button>\n",
              "      \n",
              "  <style>\n",
              "    .colab-df-container {\n",
              "      display:flex;\n",
              "      flex-wrap:wrap;\n",
              "      gap: 12px;\n",
              "    }\n",
              "\n",
              "    .colab-df-convert {\n",
              "      background-color: #E8F0FE;\n",
              "      border: none;\n",
              "      border-radius: 50%;\n",
              "      cursor: pointer;\n",
              "      display: none;\n",
              "      fill: #1967D2;\n",
              "      height: 32px;\n",
              "      padding: 0 0 0 0;\n",
              "      width: 32px;\n",
              "    }\n",
              "\n",
              "    .colab-df-convert:hover {\n",
              "      background-color: #E2EBFA;\n",
              "      box-shadow: 0px 1px 2px rgba(60, 64, 67, 0.3), 0px 1px 3px 1px rgba(60, 64, 67, 0.15);\n",
              "      fill: #174EA6;\n",
              "    }\n",
              "\n",
              "    [theme=dark] .colab-df-convert {\n",
              "      background-color: #3B4455;\n",
              "      fill: #D2E3FC;\n",
              "    }\n",
              "\n",
              "    [theme=dark] .colab-df-convert:hover {\n",
              "      background-color: #434B5C;\n",
              "      box-shadow: 0px 1px 3px 1px rgba(0, 0, 0, 0.15);\n",
              "      filter: drop-shadow(0px 1px 2px rgba(0, 0, 0, 0.3));\n",
              "      fill: #FFFFFF;\n",
              "    }\n",
              "  </style>\n",
              "\n",
              "      <script>\n",
              "        const buttonEl =\n",
              "          document.querySelector('#df-651f165c-72f7-46f6-bfeb-4a44a3f17795 button.colab-df-convert');\n",
              "        buttonEl.style.display =\n",
              "          google.colab.kernel.accessAllowed ? 'block' : 'none';\n",
              "\n",
              "        async function convertToInteractive(key) {\n",
              "          const element = document.querySelector('#df-651f165c-72f7-46f6-bfeb-4a44a3f17795');\n",
              "          const dataTable =\n",
              "            await google.colab.kernel.invokeFunction('convertToInteractive',\n",
              "                                                     [key], {});\n",
              "          if (!dataTable) return;\n",
              "\n",
              "          const docLinkHtml = 'Like what you see? Visit the ' +\n",
              "            '<a target=\"_blank\" href=https://colab.research.google.com/notebooks/data_table.ipynb>data table notebook</a>'\n",
              "            + ' to learn more about interactive tables.';\n",
              "          element.innerHTML = '';\n",
              "          dataTable['output_type'] = 'display_data';\n",
              "          await google.colab.output.renderOutput(dataTable, element);\n",
              "          const docLink = document.createElement('div');\n",
              "          docLink.innerHTML = docLinkHtml;\n",
              "          element.appendChild(docLink);\n",
              "        }\n",
              "      </script>\n",
              "    </div>\n",
              "  </div>\n",
              "  "
            ]
          },
          "metadata": {},
          "execution_count": 227
        }
      ]
    },
    {
      "cell_type": "code",
      "source": [
        "df.occupation.fillna(value='Other-service' , inplace=True)\n",
        "df['native-country'].fillna(value='Other-country' , inplace=True)\n",
        "df.workclass.fillna(value='Other' , inplace=True)\n",
        "df.drop(df.loc[df_old.index].index,axis=0,inplace=True)"
      ],
      "metadata": {
        "id": "0XFJhfHmduma"
      },
      "execution_count": null,
      "outputs": []
    },
    {
      "cell_type": "code",
      "source": [
        "df_young = df[(df.age <=20)&(df['salary'] ==' >50K')]\n",
        "df_young\n",
        "df.drop(df.loc[df_young.index].index,axis=0,inplace=True)"
      ],
      "metadata": {
        "id": "TRm280M3dup2"
      },
      "execution_count": null,
      "outputs": []
    },
    {
      "cell_type": "code",
      "source": [
        "df['salary'] = df['salary'].map( {' >50K': 1, ' <=50K': 0} )\n",
        "df['age_education'] = df['age'] * df['education-num']\n",
        "df['education_hours'] = df['education-num'] * df['hours-per-week']\n",
        "correlation = df.corr().round(2)\n",
        "plt.figure(figsize = (20,20))\n",
        "sns.heatmap(correlation, annot = True, cmap = 'CMRmap_r')\n",
        "plt.show()"
      ],
      "metadata": {
        "colab": {
          "base_uri": "https://localhost:8080/",
          "height": 1000
        },
        "id": "lNxWSYfaeLxU",
        "outputId": "d1825da0-e7eb-4ac8-e865-93d402163717"
      },
      "execution_count": null,
      "outputs": [
        {
          "output_type": "display_data",
          "data": {
            "text/plain": [
              "<Figure size 1440x1440 with 2 Axes>"
            ],
            "image/png": "[encoded data removed]"
          },
          "metadata": {}
        }
      ]
    },
    {
      "cell_type": "code",
      "source": [
        "from sklearn.preprocessing import StandardScaler\n",
        "y = df['salary']\n",
        "df.drop('salary' ,axis = 1 , inplace=True)\n",
        "num_cols = [x for x in df.columns if df[x].dtype != 'object']\n",
        "Scaler = StandardScaler()\n",
        "df[num_cols] = Scaler.fit_transform(df[num_cols])"
      ],
      "metadata": {
        "id": "_tJynbEveL0A"
      },
      "execution_count": null,
      "outputs": []
    },
    {
      "cell_type": "code",
      "source": [
        "df.drop('education' ,axis = 1 , inplace=True)"
      ],
      "metadata": {
        "id": "4-3HKTEEeL2M"
      },
      "execution_count": null,
      "outputs": []
    },
    {
      "cell_type": "code",
      "source": [
        "df['native-country'].value_counts()"
      ],
      "metadata": {
        "colab": {
          "base_uri": "https://localhost:8080/"
        },
        "id": "2WtjWQQgeL5r",
        "outputId": "e7b6aed4-5e83-49c4-c805-0a92428e4df8"
      },
      "execution_count": null,
      "outputs": [
        {
          "output_type": "execute_result",
          "data": {
            "text/plain": [
              " United-States                 23862\n",
              " Mexico                          514\n",
              "Other-country                    477\n",
              " Philippines                     161\n",
              " Germany                         108\n",
              " Canada                          105\n",
              " Puerto-Rico                     101\n",
              " England                          80\n",
              " Cuba                             78\n",
              " El-Salvador                      78\n",
              " India                            74\n",
              " South                            69\n",
              " China                            65\n",
              " Jamaica                          63\n",
              " Italy                            56\n",
              " Dominican-Republic               55\n",
              " Vietnam                          53\n",
              " Poland                           53\n",
              " Japan                            52\n",
              " Guatemala                        52\n",
              " Columbia                         48\n",
              " Taiwan                           45\n",
              " Iran                             40\n",
              " Haiti                            38\n",
              " Nicaragua                        29\n",
              " Portugal                         28\n",
              " Peru                             24\n",
              " Greece                           24\n",
              " France                           23\n",
              " Ireland                          21\n",
              " Ecuador                          19\n",
              " Thailand                         16\n",
              " Cambodia                         16\n",
              " Hong                             12\n",
              " Yugoslavia                       12\n",
              " Trinadad&Tobago                  12\n",
              " Laos                             11\n",
              " Hungary                          10\n",
              " Outlying-US(Guam-USVI-etc)        9\n",
              " Honduras                          9\n",
              " Scotland                          9\n",
              " Holand-Netherlands                1\n",
              "Name: native-country, dtype: int64"
            ]
          },
          "metadata": {},
          "execution_count": 233
        }
      ]
    },
    {
      "cell_type": "code",
      "source": [
        "df['native-country'] =df['native-country'].apply(lambda x : x.strip())\n",
        "cat_col = [x for x in df.columns if df[x].dtype == 'object']\n",
        "df=pd.get_dummies(df , columns=cat_col , drop_first=True)\n",
        "print(df.head())"
      ],
      "metadata": {
        "colab": {
          "base_uri": "https://localhost:8080/"
        },
        "id": "IZOArTmme-CG",
        "outputId": "630ab6f0-5584-448f-e8e7-00ff9362d308"
      },
      "execution_count": null,
      "outputs": [
        {
          "output_type": "stream",
          "name": "stdout",
          "text": [
            "        age    fnlwgt  education-num  capital-gain  capital-loss  \\\n",
            "0  0.029492 -1.067653       1.137193      0.144186     -0.215509   \n",
            "1  0.836865 -1.012552       1.137193     -0.145404     -0.215509   \n",
            "2 -0.043906  0.245736      -0.424163     -0.145404     -0.215509   \n",
            "3  1.057058  0.427108      -1.204841     -0.145404     -0.215509   \n",
            "4 -0.777881  1.413010       1.137193     -0.145404     -0.215509   \n",
            "\n",
            "   hours-per-week  age_education  education_hours  workclass_ Local-gov  \\\n",
            "0       -0.032389       0.662691         0.609251                     0   \n",
            "1       -2.228723       1.476339        -1.373110                     0   \n",
            "2       -0.032389      -0.276133        -0.294389                     0   \n",
            "3       -0.032389      -0.111127        -0.746209                     0   \n",
            "4       -0.032389      -0.150956         0.609251                     0   \n",
            "\n",
            "   workclass_ Never-worked  ...  native-country_Portugal  \\\n",
            "0                        0  ...                        0   \n",
            "1                        0  ...                        0   \n",
            "2                        0  ...                        0   \n",
            "3                        0  ...                        0   \n",
            "4                        0  ...                        0   \n",
            "\n",
            "   native-country_Puerto-Rico  native-country_Scotland  native-country_South  \\\n",
            "0                           0                        0                     0   \n",
            "1                           0                        0                     0   \n",
            "2                           0                        0                     0   \n",
            "3                           0                        0                     0   \n",
            "4                           0                        0                     0   \n",
            "\n",
            "   native-country_Taiwan  native-country_Thailand  \\\n",
            "0                      0                        0   \n",
            "1                      0                        0   \n",
            "2                      0                        0   \n",
            "3                      0                        0   \n",
            "4                      0                        0   \n",
            "\n",
            "   native-country_Trinadad&Tobago  native-country_United-States  \\\n",
            "0                               0                             1   \n",
            "1                               0                             1   \n",
            "2                               0                             1   \n",
            "3                               0                             1   \n",
            "4                               0                             0   \n",
            "\n",
            "   native-country_Vietnam  native-country_Yugoslavia  \n",
            "0                       0                          0  \n",
            "1                       0                          0  \n",
            "2                       0                          0  \n",
            "3                       0                          0  \n",
            "4                       0                          0  \n",
            "\n",
            "[5 rows x 87 columns]\n"
          ]
        }
      ]
    },
    {
      "cell_type": "code",
      "source": [
        "from sklearn.model_selection import train_test_split\n",
        "X_train, X_test, y_train, y_test = train_test_split(df , y , test_size=0.2 ,shuffle=True, random_state=41)\n",
        "print('Shape of training feature:', X_train.shape)\n",
        "print('Shape of testing feature:', X_test.shape)\n",
        "print('Shape of training label:', y_train.shape)\n",
        "print('Shape of training label:', y_test.shape)"
      ],
      "metadata": {
        "colab": {
          "base_uri": "https://localhost:8080/"
        },
        "id": "Y1pv1Y4ze-Fr",
        "outputId": "7cfd8dd8-bbe5-4f2d-863f-4be252ec75a4"
      },
      "execution_count": null,
      "outputs": [
        {
          "output_type": "stream",
          "name": "stdout",
          "text": [
            "Shape of training feature: (21289, 87)\n",
            "Shape of testing feature: (5323, 87)\n",
            "Shape of training label: (21289,)\n",
            "Shape of training label: (5323,)\n"
          ]
        }
      ]
    },
    {
      "cell_type": "code",
      "source": [
        "from sklearn.linear_model import LogisticRegression\n",
        "from sklearn.svm import SVC\n",
        "from sklearn.tree import DecisionTreeClassifier\n",
        "from sklearn.ensemble import RandomForestClassifier\n",
        "from sklearn.neighbors import KNeighborsClassifier"
      ],
      "metadata": {
        "id": "8XxTknfSe-SE"
      },
      "execution_count": null,
      "outputs": []
    },
    {
      "cell_type": "code",
      "source": [
        "regressor= LogisticRegression()\n",
        "regressor.fit(X_train,y_train)\n",
        "y_pred=regressor.predict(X_test)\n",
        "x_pred=regressor.predict(X_train)"
      ],
      "metadata": {
        "id": "PiGEDjGigfuz"
      },
      "execution_count": null,
      "outputs": []
    },
    {
      "cell_type": "code",
      "source": [
        "print(\" Logistic Regression Test Score:\",regressor.score(X_test,y_test))\n",
        "print(\" Logistic Regression Train Score:\",regressor.score(X_train,y_train))"
      ],
      "metadata": {
        "colab": {
          "base_uri": "https://localhost:8080/"
        },
        "id": "DPc3SFh2gfxi",
        "outputId": "a8f705aa-948b-424a-e9b1-ec47bdadd8da"
      },
      "execution_count": null,
      "outputs": [
        {
          "output_type": "stream",
          "name": "stdout",
          "text": [
            " Logistic Regression Test Score: 0.8504602667668608\n",
            " Logistic Regression Train Score: 0.8536803043825449\n"
          ]
        }
      ]
    },
    {
      "cell_type": "code",
      "source": [
        "print(\"KNN Algotithm\")\n",
        "from sklearn.neighbors import KNeighborsClassifier\n",
        "kn= KNeighborsClassifier(n_neighbors=5, metric='minkowski', p=2 )\n",
        "kn.fit(X_train, y_train)\n",
        "y_pred= kn.predict(X_test)\n",
        "print(\" KNN Test Score:\",kn.score(X_test,y_test))\n",
        "print(\" KNN Train Score:\",kn.score(X_train,y_train))"
      ],
      "metadata": {
        "colab": {
          "base_uri": "https://localhost:8080/"
        },
        "id": "PQe3hTUtgf3T",
        "outputId": "9df8d3b0-dcdb-40ff-eb56-eed4bbeeb550"
      },
      "execution_count": null,
      "outputs": [
        {
          "output_type": "stream",
          "name": "stdout",
          "text": [
            "KNN Algotithm\n",
            " KNN Test Score: 0.8292316362953221\n",
            " KNN Train Score: 0.8813471745972098\n"
          ]
        }
      ]
    },
    {
      "cell_type": "code",
      "source": [
        "print(\"Decision Tree Classifier\")\n",
        "dn= DecisionTreeClassifier(criterion='entropy', random_state=0)\n",
        "dn.fit(X_train, y_train)\n",
        "y_pred= dn.predict(X_test)\n",
        "print(\" Decision Tree Test Score:\",dn.score(X_test,y_test))\n",
        "print(\" Decision Tree Train Score:\",dn.score(X_train,y_train))"
      ],
      "metadata": {
        "colab": {
          "base_uri": "https://localhost:8080/"
        },
        "id": "K6LhkUhjgf5y",
        "outputId": "0ef5b95c-e0b4-46fc-c4ca-d3b3e7dbf60f"
      },
      "execution_count": null,
      "outputs": [
        {
          "output_type": "stream",
          "name": "stdout",
          "text": [
            "Decision Tree Classifier\n",
            " Decision Tree Test Score: 0.8057486379860981\n",
            " Decision Tree Train Score: 0.9999530273850346\n"
          ]
        }
      ]
    },
    {
      "cell_type": "code",
      "source": [
        "print(\"Random Forest Classifier\")\n",
        "classifier= RandomForestClassifier(n_estimators= 10, criterion=\"entropy\")\n",
        "classifier.fit(X_train, y_train)\n",
        "y_pred= classifier.predict(X_test)\n",
        "print(\" Random Forest Test Score:\",classifier.score(X_test,y_test))\n",
        "print(\" Random Forest Train Score:\",classifier.score(X_train,y_train))"
      ],
      "metadata": {
        "colab": {
          "base_uri": "https://localhost:8080/"
        },
        "id": "LAeyYMBJgf9S",
        "outputId": "d6459b0f-1641-4af5-955e-ec6f3efe591b"
      },
      "execution_count": null,
      "outputs": [
        {
          "output_type": "stream",
          "name": "stdout",
          "text": [
            "Random Forest Classifier\n",
            " Random Forest Test Score: 0.8421942513620139\n",
            " Random Forest Train Score: 0.9860021607402885\n"
          ]
        }
      ]
    },
    {
      "cell_type": "code",
      "source": [
        "names = [\n",
        "    \"Logistic Regression\",\n",
        "    \"Decision Tree\",\n",
        "    \"Random Forest\",\n",
        "    \"KNeighborsClassifier\"\n",
        "]\n",
        "models = [\n",
        "    LogisticRegression(),\n",
        "    DecisionTreeClassifier(),\n",
        "    RandomForestClassifier(),\n",
        "    KNeighborsClassifier(n_neighbors=5, p=2, metric='minkowski')\n",
        "]"
      ],
      "metadata": {
        "id": "0IL_IZrhhr_y"
      },
      "execution_count": null,
      "outputs": []
    },
    {
      "cell_type": "code",
      "source": [
        "from sklearn.metrics import confusion_matrix, accuracy_score\n",
        "accuracy=[]\n",
        "for model, name in zip(models,names):\n",
        "    model.fit(X_train, y_train)\n",
        "\n",
        "    y_pred = model.predict(X_train)\n",
        "    print('Confusion matrix of ',name)\n",
        "    print(confusion_matrix(y_train, y_pred))\n",
        "    ac = accuracy_score(y_train, y_pred)\n",
        "    print('Accuracy score is ',ac)\n",
        "    accuracy.append(ac)\n",
        "    print('*'*50)"
      ],
      "metadata": {
        "colab": {
          "base_uri": "https://localhost:8080/"
        },
        "id": "YYT74BsxhsCI",
        "outputId": "75e22d08-d2e7-45eb-a8b8-ff71e643a524"
      },
      "execution_count": null,
      "outputs": [
        {
          "output_type": "stream",
          "name": "stderr",
          "text": [
            "/usr/local/lib/python3.8/dist-packages/sklearn/linear_model/_logistic.py:814: ConvergenceWarning: lbfgs failed to converge (status=1):\n",
            "STOP: TOTAL NO. of ITERATIONS REACHED LIMIT.\n",
            "\n",
            "Increase the number of iterations (max_iter) or scale the data as shown in:\n",
            "    https://scikit-learn.org/stable/modules/preprocessing.html\n",
            "Please also refer to the documentation for alternative solver options:\n",
            "    https://scikit-learn.org/stable/modules/linear_model.html#logistic-regression\n",
            "  n_iter_i = _check_optimize_result(\n"
          ]
        },
        {
          "output_type": "stream",
          "name": "stdout",
          "text": [
            "Confusion matrix of  Logistic Regression\n",
            "[[15080  1098]\n",
            " [ 2017  3094]]\n",
            "Accuracy score is  0.8536803043825449\n",
            "**************************************************\n",
            "Confusion matrix of  Decision Tree\n",
            "[[16178     0]\n",
            " [    1  5110]]\n",
            "Accuracy score is  0.9999530273850346\n",
            "**************************************************\n",
            "Confusion matrix of  Random Forest\n",
            "[[16178     0]\n",
            " [    2  5109]]\n",
            "Accuracy score is  0.999906054770069\n",
            "**************************************************\n",
            "Confusion matrix of  KNeighborsClassifier\n",
            "[[15172  1006]\n",
            " [ 1520  3591]]\n",
            "Accuracy score is  0.8813471745972098\n",
            "**************************************************\n"
          ]
        }
      ]
    },
    {
      "cell_type": "code",
      "source": [
        "Accuracy_list = pd.DataFrame(list(zip(names, accuracy)),columns =['Model', 'Accuracy'])\n",
        "Accuracy_list= Accuracy_list.sort_values('Accuracy', axis=0, kind='quicksort', na_position='last', ignore_index=True)\n",
        "\n",
        "plt.rcParams['figure.figsize']=10,10\n",
        "sns.set_style(\"darkgrid\")\n",
        "ax = sns.barplot(x = 'Model',y = 'Accuracy',data = Accuracy_list, palette='magma',saturation =4.5)\n",
        "sns.color_palette(\"magma\", as_cmap=True)\n",
        "plt.xlabel(\"Machine Learning Prediction Algorithm Model\", fontsize = 25 )\n",
        "plt.ylabel(\"Accuracy\", fontsize = 25)\n",
        "plt.title(\"Accuracy of different Models\", fontsize = 35, color=\"red\")\n",
        "plt.xticks(fontsize = 10, horizontalalignment = 'center', rotation = 5)\n",
        "plt.yticks(fontsize = 15)\n",
        "for p in ax.patches:\n",
        "    width, height = p.get_width(), p.get_height()\n",
        "    x, y = p.get_xy()\n",
        "    ax.annotate(f'{height:.2%}', (x + width/2, y + height*1.02), ha='center', fontsize = 'x-large')\n",
        "plt.show()"
      ],
      "metadata": {
        "colab": {
          "base_uri": "https://localhost:8080/",
          "height": 661
        },
        "id": "L2lQDHajhxV2",
        "outputId": "7a53dbd5-2b99-4608-cc51-793ff658ec28"
      },
      "execution_count": null,
      "outputs": [
        {
          "output_type": "display_data",
          "data": {
            "text/plain": [
              "<Figure size 720x720 with 1 Axes>"
            ],
            "image/png": "[encoded data removed]"
          },
          "metadata": {}
        }
      ]
    },
    {
      "cell_type": "code",
      "source": [
        "from sklearn.metrics import confusion_matrix, precision_score, plot_confusion_matrix\n",
        "import matplotlib.pyplot as plt\n",
        "plot_confusion_matrix(model, X_train, y_train, cmap='rocket')\n",
        "plt.title(\"Confusion Matrix\")\n",
        "plt.show()"
      ],
      "metadata": {
        "colab": {
          "base_uri": "https://localhost:8080/",
          "height": 629
        },
        "id": "O25BGF-Qn-1O",
        "outputId": "481c55bb-7e59-440b-90ce-8e63a8782fa5"
      },
      "execution_count": null,
      "outputs": [
        {
          "output_type": "stream",
          "name": "stderr",
          "text": [
            "/usr/local/lib/python3.8/dist-packages/sklearn/utils/deprecation.py:87: FutureWarning: Function plot_confusion_matrix is deprecated; Function `plot_confusion_matrix` is deprecated in 1.0 and will be removed in 1.2. Use one of the class methods: ConfusionMatrixDisplay.from_predictions or ConfusionMatrixDisplay.from_estimator.\n",
            "  warnings.warn(msg, category=FutureWarning)\n"
          ]
        },
        {
          "output_type": "display_data",
          "data": {
            "text/plain": [
              "<Figure size 720x720 with 2 Axes>"
            ],
            "image/png": "[encoded data removed]"
          },
          "metadata": {}
        }
      ]
    },
    {
      "cell_type": "code",
      "source": [
        "from sklearn.metrics import precision_recall_curve, plot_precision_recall_curve\n",
        "y_pred_prob = model.predict_proba(X_test)[:, 1]\n",
        "precision, recall, thresholds = precision_recall_curve(y_test, y_pred_prob)\n",
        "plt.plot(recall, precision, label=\"Random Forest\")\n",
        "plt.xlabel(\"Recall\")\n",
        "plt.ylabel(\"Precision\")\n",
        "plt.plot([0, 1], [0.85837209, 0.86837209], label=\"Baseline\")\n",
        "plt.legend()\n",
        "plt.show()"
      ],
      "metadata": {
        "colab": {
          "base_uri": "https://localhost:8080/",
          "height": 606
        },
        "id": "oIYmiKOsonSx",
        "outputId": "be9aeb0e-52ca-4f87-9eb1-49e98cb86278"
      },
      "execution_count": null,
      "outputs": [
        {
          "output_type": "display_data",
          "data": {
            "text/plain": [
              "<Figure size 720x720 with 1 Axes>"
            ],
            "image/png": "[encoded data removed]"
          },
          "metadata": {}
        }
      ]
    },
    {
      "cell_type": "code",
      "source": [
        "from sklearn.metrics import plot_roc_curve\n",
        "from sklearn.metrics import roc_curve\n",
        "from sklearn.metrics import roc_auc_score\n",
        "y_score7 = classifier.predict_proba(X_test)[:,1]\n",
        "false_positive_rate7, true_positive_rate7, threshold6 = roc_curve(y_test, y_score7)\n",
        "\n",
        "plt.subplots(1, figsize=(8,8))\n",
        "plt.title('Receiver Operating Characteristic - Random forest')\n",
        "plt.plot(false_positive_rate7, true_positive_rate7)\n",
        "\n",
        "plt.plot([0, 1], ls=\"--\")\n",
        "plt.plot([0, 0], [1, 0] , c=\".7\"), plt.plot([1, 1] , c=\".7\")\n",
        "plt.ylabel('True Positive Rate')\n",
        "plt.xlabel('False Positive Rate')\n",
        "plt.legend()\n",
        "plt.show()"
      ],
      "metadata": {
        "colab": {
          "base_uri": "https://localhost:8080/",
          "height": 530
        },
        "id": "JU7Ata6LpfxH",
        "outputId": "2d607578-5716-4a23-96d3-ced5934a649f"
      },
      "execution_count": null,
      "outputs": [
        {
          "output_type": "stream",
          "name": "stderr",
          "text": [
            "WARNING:matplotlib.legend:No handles with labels found to put in legend.\n"
          ]
        },
        {
          "output_type": "display_data",
          "data": {
            "text/plain": [
              "<Figure size 576x576 with 1 Axes>"
            ],
            "image/png": "[encoded data removed]"
          },
          "metadata": {}
        }
      ]
    }
  ]
}